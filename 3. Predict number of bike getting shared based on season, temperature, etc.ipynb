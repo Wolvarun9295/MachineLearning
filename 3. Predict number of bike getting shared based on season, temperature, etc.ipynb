{
 "cells": [
  {
   "cell_type": "code",
   "execution_count": 4,
   "metadata": {},
   "outputs": [],
   "source": [
    "import numpy as np\n",
    "import pandas as pd\n",
    "import matplotlib.pyplot as plt\n",
    "%matplotlib inline\n",
    "import pickle\n",
    "import warnings\n",
    "warnings.filterwarnings('ignore')\n",
    "\n",
    "import os\n",
    "\n",
    "from sklearn.model_selection import train_test_split\n",
    "from sklearn.metrics import mean_squared_error, r2_score\n",
    "from math import sqrt"
   ]
  },
  {
   "cell_type": "code",
   "execution_count": 5,
   "metadata": {},
   "outputs": [],
   "source": [
    "# reading the data\n",
    "bikes_hour_df_raws = pd.read_csv('Data/bike_sharing_hourly.csv')\n",
    "bike_day_df_raws = pd.read_csv('Data/bike_sharing_daily.csv')"
   ]
  },
  {
   "cell_type": "code",
   "execution_count": 6,
   "metadata": {},
   "outputs": [
    {
     "data": {
      "text/html": [
       "<div>\n",
       "<style scoped>\n",
       "    .dataframe tbody tr th:only-of-type {\n",
       "        vertical-align: middle;\n",
       "    }\n",
       "\n",
       "    .dataframe tbody tr th {\n",
       "        vertical-align: top;\n",
       "    }\n",
       "\n",
       "    .dataframe thead th {\n",
       "        text-align: right;\n",
       "    }\n",
       "</style>\n",
       "<table border=\"1\" class=\"dataframe\">\n",
       "  <thead>\n",
       "    <tr style=\"text-align: right;\">\n",
       "      <th></th>\n",
       "      <th>instant</th>\n",
       "      <th>dteday</th>\n",
       "      <th>season</th>\n",
       "      <th>yr</th>\n",
       "      <th>mnth</th>\n",
       "      <th>hr</th>\n",
       "      <th>holiday</th>\n",
       "      <th>weekday</th>\n",
       "      <th>workingday</th>\n",
       "      <th>weathersit</th>\n",
       "      <th>temp</th>\n",
       "      <th>atemp</th>\n",
       "      <th>hum</th>\n",
       "      <th>windspeed</th>\n",
       "      <th>casual</th>\n",
       "      <th>registered</th>\n",
       "      <th>cnt</th>\n",
       "    </tr>\n",
       "  </thead>\n",
       "  <tbody>\n",
       "    <tr>\n",
       "      <th>0</th>\n",
       "      <td>1</td>\n",
       "      <td>2011-01-01</td>\n",
       "      <td>1</td>\n",
       "      <td>0</td>\n",
       "      <td>1</td>\n",
       "      <td>0</td>\n",
       "      <td>0</td>\n",
       "      <td>6</td>\n",
       "      <td>0</td>\n",
       "      <td>1</td>\n",
       "      <td>0.24</td>\n",
       "      <td>0.2879</td>\n",
       "      <td>0.81</td>\n",
       "      <td>0.0</td>\n",
       "      <td>3</td>\n",
       "      <td>13</td>\n",
       "      <td>16</td>\n",
       "    </tr>\n",
       "    <tr>\n",
       "      <th>1</th>\n",
       "      <td>2</td>\n",
       "      <td>2011-01-01</td>\n",
       "      <td>1</td>\n",
       "      <td>0</td>\n",
       "      <td>1</td>\n",
       "      <td>1</td>\n",
       "      <td>0</td>\n",
       "      <td>6</td>\n",
       "      <td>0</td>\n",
       "      <td>1</td>\n",
       "      <td>0.22</td>\n",
       "      <td>0.2727</td>\n",
       "      <td>0.80</td>\n",
       "      <td>0.0</td>\n",
       "      <td>8</td>\n",
       "      <td>32</td>\n",
       "      <td>40</td>\n",
       "    </tr>\n",
       "    <tr>\n",
       "      <th>2</th>\n",
       "      <td>3</td>\n",
       "      <td>2011-01-01</td>\n",
       "      <td>1</td>\n",
       "      <td>0</td>\n",
       "      <td>1</td>\n",
       "      <td>2</td>\n",
       "      <td>0</td>\n",
       "      <td>6</td>\n",
       "      <td>0</td>\n",
       "      <td>1</td>\n",
       "      <td>0.22</td>\n",
       "      <td>0.2727</td>\n",
       "      <td>0.80</td>\n",
       "      <td>0.0</td>\n",
       "      <td>5</td>\n",
       "      <td>27</td>\n",
       "      <td>32</td>\n",
       "    </tr>\n",
       "    <tr>\n",
       "      <th>3</th>\n",
       "      <td>4</td>\n",
       "      <td>2011-01-01</td>\n",
       "      <td>1</td>\n",
       "      <td>0</td>\n",
       "      <td>1</td>\n",
       "      <td>3</td>\n",
       "      <td>0</td>\n",
       "      <td>6</td>\n",
       "      <td>0</td>\n",
       "      <td>1</td>\n",
       "      <td>0.24</td>\n",
       "      <td>0.2879</td>\n",
       "      <td>0.75</td>\n",
       "      <td>0.0</td>\n",
       "      <td>3</td>\n",
       "      <td>10</td>\n",
       "      <td>13</td>\n",
       "    </tr>\n",
       "    <tr>\n",
       "      <th>4</th>\n",
       "      <td>5</td>\n",
       "      <td>2011-01-01</td>\n",
       "      <td>1</td>\n",
       "      <td>0</td>\n",
       "      <td>1</td>\n",
       "      <td>4</td>\n",
       "      <td>0</td>\n",
       "      <td>6</td>\n",
       "      <td>0</td>\n",
       "      <td>1</td>\n",
       "      <td>0.24</td>\n",
       "      <td>0.2879</td>\n",
       "      <td>0.75</td>\n",
       "      <td>0.0</td>\n",
       "      <td>0</td>\n",
       "      <td>1</td>\n",
       "      <td>1</td>\n",
       "    </tr>\n",
       "  </tbody>\n",
       "</table>\n",
       "</div>"
      ],
      "text/plain": [
       "   instant      dteday  season  yr  mnth  hr  holiday  weekday  workingday  \\\n",
       "0        1  2011-01-01       1   0     1   0        0        6           0   \n",
       "1        2  2011-01-01       1   0     1   1        0        6           0   \n",
       "2        3  2011-01-01       1   0     1   2        0        6           0   \n",
       "3        4  2011-01-01       1   0     1   3        0        6           0   \n",
       "4        5  2011-01-01       1   0     1   4        0        6           0   \n",
       "\n",
       "   weathersit  temp   atemp   hum  windspeed  casual  registered  cnt  \n",
       "0           1  0.24  0.2879  0.81        0.0       3          13   16  \n",
       "1           1  0.22  0.2727  0.80        0.0       8          32   40  \n",
       "2           1  0.22  0.2727  0.80        0.0       5          27   32  \n",
       "3           1  0.24  0.2879  0.75        0.0       3          10   13  \n",
       "4           1  0.24  0.2879  0.75        0.0       0           1    1  "
      ]
     },
     "execution_count": 6,
     "metadata": {},
     "output_type": "execute_result"
    }
   ],
   "source": [
    "bikes_hour_df_raws.head()"
   ]
  },
  {
   "cell_type": "code",
   "execution_count": 8,
   "metadata": {},
   "outputs": [
    {
     "data": {
      "text/html": [
       "<div>\n",
       "<style scoped>\n",
       "    .dataframe tbody tr th:only-of-type {\n",
       "        vertical-align: middle;\n",
       "    }\n",
       "\n",
       "    .dataframe tbody tr th {\n",
       "        vertical-align: top;\n",
       "    }\n",
       "\n",
       "    .dataframe thead th {\n",
       "        text-align: right;\n",
       "    }\n",
       "</style>\n",
       "<table border=\"1\" class=\"dataframe\">\n",
       "  <thead>\n",
       "    <tr style=\"text-align: right;\">\n",
       "      <th></th>\n",
       "      <th>instant</th>\n",
       "      <th>dteday</th>\n",
       "      <th>season</th>\n",
       "      <th>yr</th>\n",
       "      <th>mnth</th>\n",
       "      <th>holiday</th>\n",
       "      <th>weekday</th>\n",
       "      <th>workingday</th>\n",
       "      <th>weathersit</th>\n",
       "      <th>temp</th>\n",
       "      <th>atemp</th>\n",
       "      <th>hum</th>\n",
       "      <th>windspeed</th>\n",
       "      <th>casual</th>\n",
       "      <th>registered</th>\n",
       "      <th>cnt</th>\n",
       "    </tr>\n",
       "  </thead>\n",
       "  <tbody>\n",
       "    <tr>\n",
       "      <th>0</th>\n",
       "      <td>1</td>\n",
       "      <td>2011-01-01</td>\n",
       "      <td>1</td>\n",
       "      <td>0</td>\n",
       "      <td>1</td>\n",
       "      <td>0</td>\n",
       "      <td>6</td>\n",
       "      <td>0</td>\n",
       "      <td>2</td>\n",
       "      <td>0.344167</td>\n",
       "      <td>0.363625</td>\n",
       "      <td>0.805833</td>\n",
       "      <td>0.160446</td>\n",
       "      <td>331</td>\n",
       "      <td>654</td>\n",
       "      <td>985</td>\n",
       "    </tr>\n",
       "    <tr>\n",
       "      <th>1</th>\n",
       "      <td>2</td>\n",
       "      <td>2011-01-02</td>\n",
       "      <td>1</td>\n",
       "      <td>0</td>\n",
       "      <td>1</td>\n",
       "      <td>0</td>\n",
       "      <td>0</td>\n",
       "      <td>0</td>\n",
       "      <td>2</td>\n",
       "      <td>0.363478</td>\n",
       "      <td>0.353739</td>\n",
       "      <td>0.696087</td>\n",
       "      <td>0.248539</td>\n",
       "      <td>131</td>\n",
       "      <td>670</td>\n",
       "      <td>801</td>\n",
       "    </tr>\n",
       "    <tr>\n",
       "      <th>2</th>\n",
       "      <td>3</td>\n",
       "      <td>2011-01-03</td>\n",
       "      <td>1</td>\n",
       "      <td>0</td>\n",
       "      <td>1</td>\n",
       "      <td>0</td>\n",
       "      <td>1</td>\n",
       "      <td>1</td>\n",
       "      <td>1</td>\n",
       "      <td>0.196364</td>\n",
       "      <td>0.189405</td>\n",
       "      <td>0.437273</td>\n",
       "      <td>0.248309</td>\n",
       "      <td>120</td>\n",
       "      <td>1229</td>\n",
       "      <td>1349</td>\n",
       "    </tr>\n",
       "    <tr>\n",
       "      <th>3</th>\n",
       "      <td>4</td>\n",
       "      <td>2011-01-04</td>\n",
       "      <td>1</td>\n",
       "      <td>0</td>\n",
       "      <td>1</td>\n",
       "      <td>0</td>\n",
       "      <td>2</td>\n",
       "      <td>1</td>\n",
       "      <td>1</td>\n",
       "      <td>0.200000</td>\n",
       "      <td>0.212122</td>\n",
       "      <td>0.590435</td>\n",
       "      <td>0.160296</td>\n",
       "      <td>108</td>\n",
       "      <td>1454</td>\n",
       "      <td>1562</td>\n",
       "    </tr>\n",
       "    <tr>\n",
       "      <th>4</th>\n",
       "      <td>5</td>\n",
       "      <td>2011-01-05</td>\n",
       "      <td>1</td>\n",
       "      <td>0</td>\n",
       "      <td>1</td>\n",
       "      <td>0</td>\n",
       "      <td>3</td>\n",
       "      <td>1</td>\n",
       "      <td>1</td>\n",
       "      <td>0.226957</td>\n",
       "      <td>0.229270</td>\n",
       "      <td>0.436957</td>\n",
       "      <td>0.186900</td>\n",
       "      <td>82</td>\n",
       "      <td>1518</td>\n",
       "      <td>1600</td>\n",
       "    </tr>\n",
       "  </tbody>\n",
       "</table>\n",
       "</div>"
      ],
      "text/plain": [
       "   instant      dteday  season  yr  mnth  holiday  weekday  workingday  \\\n",
       "0        1  2011-01-01       1   0     1        0        6           0   \n",
       "1        2  2011-01-02       1   0     1        0        0           0   \n",
       "2        3  2011-01-03       1   0     1        0        1           1   \n",
       "3        4  2011-01-04       1   0     1        0        2           1   \n",
       "4        5  2011-01-05       1   0     1        0        3           1   \n",
       "\n",
       "   weathersit      temp     atemp       hum  windspeed  casual  registered  \\\n",
       "0           2  0.344167  0.363625  0.805833   0.160446     331         654   \n",
       "1           2  0.363478  0.353739  0.696087   0.248539     131         670   \n",
       "2           1  0.196364  0.189405  0.437273   0.248309     120        1229   \n",
       "3           1  0.200000  0.212122  0.590435   0.160296     108        1454   \n",
       "4           1  0.226957  0.229270  0.436957   0.186900      82        1518   \n",
       "\n",
       "    cnt  \n",
       "0   985  \n",
       "1   801  \n",
       "2  1349  \n",
       "3  1562  \n",
       "4  1600  "
      ]
     },
     "execution_count": 8,
     "metadata": {},
     "output_type": "execute_result"
    }
   ],
   "source": [
    "bike_day_df_raws.head()"
   ]
  },
  {
   "cell_type": "code",
   "execution_count": 9,
   "metadata": {},
   "outputs": [],
   "source": [
    "# removing useless feature\n",
    "bikes_hour_df = bikes_hour_df_raws.drop(['casual' , 'registered'], axis=1)"
   ]
  },
  {
   "cell_type": "code",
   "execution_count": 10,
   "metadata": {},
   "outputs": [
    {
     "name": "stdout",
     "output_type": "stream",
     "text": [
      "<class 'pandas.core.frame.DataFrame'>\n",
      "RangeIndex: 17379 entries, 0 to 17378\n",
      "Data columns (total 15 columns):\n",
      " #   Column      Non-Null Count  Dtype  \n",
      "---  ------      --------------  -----  \n",
      " 0   instant     17379 non-null  int64  \n",
      " 1   dteday      17379 non-null  object \n",
      " 2   season      17379 non-null  int64  \n",
      " 3   yr          17379 non-null  int64  \n",
      " 4   mnth        17379 non-null  int64  \n",
      " 5   hr          17379 non-null  int64  \n",
      " 6   holiday     17379 non-null  int64  \n",
      " 7   weekday     17379 non-null  int64  \n",
      " 8   workingday  17379 non-null  int64  \n",
      " 9   weathersit  17379 non-null  int64  \n",
      " 10  temp        17379 non-null  float64\n",
      " 11  atemp       17379 non-null  float64\n",
      " 12  hum         17379 non-null  float64\n",
      " 13  windspeed   17379 non-null  float64\n",
      " 14  cnt         17379 non-null  int64  \n",
      "dtypes: float64(4), int64(10), object(1)\n",
      "memory usage: 2.0+ MB\n"
     ]
    }
   ],
   "source": [
    "#lets get information about features\n",
    "bikes_hour_df.info()"
   ]
  },
  {
   "cell_type": "code",
   "execution_count": 11,
   "metadata": {},
   "outputs": [
    {
     "data": {
      "text/plain": [
       "count    17379.000000\n",
       "mean       189.463088\n",
       "std        181.387599\n",
       "min          1.000000\n",
       "25%         40.000000\n",
       "50%        142.000000\n",
       "75%        281.000000\n",
       "max        977.000000\n",
       "Name: cnt, dtype: float64"
      ]
     },
     "execution_count": 11,
     "metadata": {},
     "output_type": "execute_result"
    }
   ],
   "source": [
    "bikes_hour_df['cnt'].describe()"
   ]
  },
  {
   "cell_type": "code",
   "execution_count": 12,
   "metadata": {},
   "outputs": [
    {
     "data": {
      "text/plain": [
       "Text(0.5, 0.98, 'Recorded Bike Rental Counts')"
      ]
     },
     "execution_count": 12,
     "metadata": {},
     "output_type": "execute_result"
    },
    {
     "data": {
      "image/png": "[encoded data removed]",
      "text/plain": [
       "<Figure size 432x288 with 1 Axes>"
      ]
     },
     "metadata": {
      "needs_background": "light"
     },
     "output_type": "display_data"
    }
   ],
   "source": [
    "fig, ax = plt.subplots(1)\n",
    "ax.plot(sorted(bikes_hour_df['cnt']), color = 'blue', marker = '*', label='cnt')\n",
    "ax.legend(loc= 'upper left')\n",
    "ax.set_ylabel('Sorted Rental Counts', fontsize = 10)\n",
    "fig.suptitle('Recorded Bike Rental Counts', fontsize = 10)"
   ]
  },
  {
   "cell_type": "code",
   "execution_count": 13,
   "metadata": {},
   "outputs": [
    {
     "data": {
      "text/plain": [
       "Text(0, 0.5, 'Count of all Biks Rented')"
      ]
     },
     "execution_count": 13,
     "metadata": {},
     "output_type": "execute_result"
    },
    {
     "data": {
      "image/png": "[encoded data removed]",
      "text/plain": [
       "<Figure size 432x288 with 1 Axes>"
      ]
     },
     "metadata": {
      "needs_background": "light"
     },
     "output_type": "display_data"
    }
   ],
   "source": [
    "plt.scatter(bikes_hour_df['temp'], bikes_hour_df['cnt'])\n",
    "plt.suptitle('Numerical Feature: Cnt v/s temp')\n",
    "plt.xlabel('temp')\n",
    "plt.ylabel('Count of all Biks Rented')"
   ]
  },
  {
   "cell_type": "code",
   "execution_count": 15,
   "metadata": {},
   "outputs": [
    {
     "data": {
      "text/plain": [
       "Text(0, 0.5, 'Count of all Bikes Rented')"
      ]
     },
     "execution_count": 15,
     "metadata": {},
     "output_type": "execute_result"
    },
    {
     "data": {
      "image/png": "[encoded data removed]",
      "text/plain": [
       "<Figure size 432x288 with 1 Axes>"
      ]
     },
     "metadata": {
      "needs_background": "light"
     },
     "output_type": "display_data"
    }
   ],
   "source": [
    "plt.scatter(bikes_hour_df['atemp'], bikes_hour_df['cnt'])\n",
    "plt.suptitle('Numerical Feature: Cnt v/s atemp')\n",
    "plt.xlabel('atemp')\n",
    "plt.ylabel('Count of all Bikes Rented')"
   ]
  },
  {
   "cell_type": "code",
   "execution_count": 16,
   "metadata": {},
   "outputs": [
    {
     "data": {
      "text/plain": [
       "Text(0, 0.5, 'Count of all Bikes Rented')"
      ]
     },
     "execution_count": 16,
     "metadata": {},
     "output_type": "execute_result"
    },
    {
     "data": {
      "image/png": "[encoded data removed]",
      "text/plain": [
       "<Figure size 432x288 with 1 Axes>"
      ]
     },
     "metadata": {
      "needs_background": "light"
     },
     "output_type": "display_data"
    }
   ],
   "source": [
    "plt.scatter(bikes_hour_df['hum'], bikes_hour_df['cnt'])\n",
    "plt.suptitle('Numerical Feature: Cnt v/s hum')\n",
    "plt.xlabel('hum')\n",
    "plt.ylabel('Count of all Bikes Rented')"
   ]
  },
  {
   "cell_type": "code",
   "execution_count": 17,
   "metadata": {},
   "outputs": [
    {
     "data": {
      "text/plain": [
       "Text(0, 0.5, 'Count of all Bikes Rented')"
      ]
     },
     "execution_count": 17,
     "metadata": {},
     "output_type": "execute_result"
    },
    {
     "data": {
      "image/png": "[encoded data removed]",
      "text/plain": [
       "<Figure size 432x288 with 1 Axes>"
      ]
     },
     "metadata": {
      "needs_background": "light"
     },
     "output_type": "display_data"
    }
   ],
   "source": [
    "plt.scatter(bikes_hour_df['windspeed'], bikes_hour_df['cnt'])\n",
    "plt.suptitle('Numerical Feature: Cnt v/s windspeed')\n",
    "plt.xlabel('windspeed')\n",
    "plt.ylabel('Count of all Bikes Rented')"
   ]
  },
  {
   "cell_type": "code",
   "execution_count": 18,
   "metadata": {},
   "outputs": [
    {
     "data": {
      "image/png": "[encoded data removed]",
      "text/plain": [
       "<Figure size 936x432 with 2 Axes>"
      ]
     },
     "metadata": {
      "needs_background": "light"
     },
     "output_type": "display_data"
    }
   ],
   "source": [
    "f,  (ax1, ax2)  =  plt.subplots(nrows=1, ncols=2, figsize=(13, 6))\n",
    "\n",
    "ax1 = bikes_hour_df[['season','cnt']].groupby(['season']).sum().reset_index().plot(kind='bar',\n",
    "                                       legend = False, title =\"Counts of Bike Rentals by season\", \n",
    "                                         stacked=True, fontsize=12, ax=ax1)\n",
    "ax1.set_xlabel(\"season\", fontsize=12)\n",
    "ax1.set_ylabel(\"Count\", fontsize=12)\n",
    "ax1.set_xticklabels(['spring','sumer','fall','winter'])\n",
    "\n",
    " \n",
    "ax2 = bikes_hour_df[['weathersit','cnt']].groupby(['weathersit']).sum().reset_index().plot(kind='bar',  \n",
    "      legend = False, stacked=True, title =\"Counts of Bike Rentals by weathersit\", fontsize=12, ax=ax2)\n",
    "\n",
    "ax2.set_xlabel(\"weathersit\", fontsize=12)\n",
    "ax2.set_ylabel(\"Count\", fontsize=12)\n",
    "ax2.set_xticklabels(['1: Clear','2: Mist','3: Light Snow','4: Heavy Rain'])\n",
    "\n",
    "f.tight_layout()"
   ]
  },
  {
   "cell_type": "code",
   "execution_count": 19,
   "metadata": {},
   "outputs": [
    {
     "data": {
      "image/png": "[encoded data removed]",
      "text/plain": [
       "<Figure size 576x432 with 1 Axes>"
      ]
     },
     "metadata": {
      "needs_background": "light"
     },
     "output_type": "display_data"
    }
   ],
   "source": [
    "# alternative way of plotting using groupby\n",
    "ax = bikes_hour_df[['hr','cnt']].groupby(['hr']).sum().reset_index().plot(kind='bar', figsize=(8, 6),\n",
    "                                       legend = False, title =\"Total Bike Rentals by Hour\", \n",
    "                                       color='orange', fontsize=12)\n",
    "ax.set_xlabel(\"Hour\", fontsize=12)\n",
    "ax.set_ylabel(\"Count\", fontsize=12)\n",
    "plt.show()"
   ]
  },
  {
   "cell_type": "code",
   "execution_count": 20,
   "metadata": {},
   "outputs": [
    {
     "name": "stdout",
     "output_type": "stream",
     "text": [
      "RMSE: 139.14\n"
     ]
    }
   ],
   "source": [
    "# lets copy for editing without effecting original\n",
    "bikes_df_model_data = bikes_hour_df.copy()\n",
    "\n",
    "outcome = 'cnt'\n",
    "\n",
    "#making feature list for each modeling - experiment by adding feature to the exclusion list\n",
    "feature = [feat for feat in list(bikes_df_model_data) if feat not in [outcome, 'instant', 'dteday']]\n",
    "\n",
    "#spliting data into train and test portion\n",
    "X_trian, X_test, y_train, y_test = train_test_split(bikes_df_model_data[feature],\n",
    "                                                   bikes_df_model_data[outcome],\n",
    "                                                   test_size=0.3, random_state=42)\n",
    "\n",
    "from sklearn import linear_model\n",
    "lr_model = linear_model.LinearRegression()\n",
    "\n",
    "#training model in training set\n",
    "lr_model.fit(X_trian, y_train)\n",
    "\n",
    "# making predection using the test set\n",
    "y_pred = lr_model.predict(X_test)\n",
    "\n",
    "#root mean squared error\n",
    "print('RMSE: %.2f' % sqrt(mean_squared_error(y_test, y_pred)))"
   ]
  },
  {
   "cell_type": "code",
   "execution_count": 21,
   "metadata": {},
   "outputs": [
    {
     "name": "stdout",
     "output_type": "stream",
     "text": [
      "Root Mean squared error with PolynomialFeatures set to 2 degrees: 120.44\n"
     ]
    }
   ],
   "source": [
    "# lets copy for editing without effecting original\n",
    "bikes_df_model_data = bikes_hour_df.copy()\n",
    "\n",
    "outcome = 'cnt'\n",
    "\n",
    "#making feature list for each modeling - experiment by adding feature to the exclusion list\n",
    "feature = [feat for feat in list(bikes_df_model_data) if feat not in [outcome, 'instant', 'dteday']]\n",
    "\n",
    "X_trian, X_test, y_train, y_test = train_test_split(bikes_df_model_data[feature],\n",
    "                                                   bikes_df_model_data[outcome],\n",
    "                                                   test_size=0.3, random_state=42)\n",
    "\n",
    "from sklearn.preprocessing import PolynomialFeatures\n",
    "poly_feat = PolynomialFeatures(2)\n",
    "X_train = poly_feat.fit_transform(X_trian)\n",
    "X_test = poly_feat.fit_transform(X_test)\n",
    "\n",
    "from sklearn import linear_model\n",
    "lr_model= linear_model.LinearRegression()\n",
    "\n",
    "# training the model on traning set\n",
    "lr_model.fit(X_train, y_train)\n",
    "\n",
    "# make the prediction\n",
    "y_pred = lr_model.predict(X_test)\n",
    "\n",
    "#root mean squared error\n",
    "print(\"Root Mean squared error with PolynomialFeatures set to 2 degrees: %.2f\" \n",
    "      % sqrt(mean_squared_error(y_test, y_pred)))"
   ]
  },
  {
   "cell_type": "code",
   "execution_count": 23,
   "metadata": {},
   "outputs": [
    {
     "name": "stdout",
     "output_type": "stream",
     "text": [
      "Root Mean squared error with PolynomialFeatures set to 4 degrees: 101900672.25\n"
     ]
    }
   ],
   "source": [
    "# lets copy for editing without effecting original\n",
    "bikes_df_model_data = bikes_hour_df.copy()\n",
    "\n",
    "outcome = 'cnt'\n",
    "\n",
    "#making feature list for each modeling - experiment by adding feature to the exclusion list\n",
    "feature = [feat for feat in list(bikes_df_model_data) if feat not in [outcome, 'instant', 'dteday']]\n",
    "\n",
    "X_trian, X_test, y_train, y_test = train_test_split(bikes_df_model_data[feature],\n",
    "                                                   bikes_df_model_data[outcome],\n",
    "                                                   test_size=0.3, random_state=42)\n",
    "\n",
    "from sklearn.preprocessing import PolynomialFeatures\n",
    "poly_feat = PolynomialFeatures(4)\n",
    "X_train = poly_feat.fit_transform(X_trian)\n",
    "X_test = poly_feat.fit_transform(X_test)\n",
    "\n",
    "from sklearn import linear_model\n",
    "lr_model= linear_model.LinearRegression()\n",
    "\n",
    "# training the model on traning set\n",
    "lr_model.fit(X_train, y_train)\n",
    "\n",
    "# make the prediction\n",
    "y_pred = lr_model.predict(X_test)\n",
    "\n",
    "#root mean squared error\n",
    "print(\"Root Mean squared error with PolynomialFeatures set to 4 degrees: %.2f\" \n",
    "      % sqrt(mean_squared_error(y_test, y_pred)))"
   ]
  },
  {
   "cell_type": "code",
   "execution_count": 24,
   "metadata": {},
   "outputs": [
    {
     "name": "stdout",
     "output_type": "stream",
     "text": [
      "Coefficients: \n",
      " [[ 8.15248087e+01 -3.05053709e-01  7.31700288e+00 -2.12212108e+01\n",
      "   1.25047676e+01  2.56576596e+02  1.06754237e+02 -2.00225607e+02\n",
      "   3.93454538e+01  2.54085994e+01  2.24746614e+00  7.16672281e+01\n",
      "   8.52651283e-14 -4.49090388e+00  6.22106355e-01 -2.38810162e+00\n",
      "  -3.93756806e+00  1.47802402e+00  1.23008686e+01  0.00000000e+00\n",
      "   9.33424984e+00 -2.40957826e+01  3.07030469e+01  0.00000000e+00]]\n",
      "Root Mean squared error: 139.40\n"
     ]
    }
   ],
   "source": [
    "def prepare_data_for_model(raw_dataframe, \n",
    "                           target_columns, \n",
    "                           drop_first = False, \n",
    "                           make_na_col = True):\n",
    "    \n",
    "    # dummy all categorical fields \n",
    "    dataframe_dummy = pd.get_dummies(raw_dataframe, columns=target_columns, \n",
    "                                     drop_first=drop_first, \n",
    "                                     dummy_na=make_na_col)\n",
    "    return (dataframe_dummy)\n",
    "\n",
    "# make a copy for editing without affecting original\n",
    "bike_df_model_ready = bikes_hour_df.copy()\n",
    "bike_df_model_ready = bike_df_model_ready.sort_values('instant')\n",
    "\n",
    "# dummify categorical columns\n",
    "bike_df_model_ready = prepare_data_for_model(bike_df_model_ready, \n",
    "                                            target_columns = ['season', \n",
    "                                                              'weekday', \n",
    "                                                              'weathersit'],\n",
    "                                            drop_first = True)\n",
    "\n",
    "# remove the nan colums in dataframe as most are outcome variable and we can't use them\n",
    "bike_df_model_ready = bike_df_model_ready.dropna() \n",
    "\n",
    "\n",
    "outcome = 'cnt'\n",
    "features = [feat for feat in list(bike_df_model_ready) if feat not in [outcome, 'instant',  'dteday']]  \n",
    "\n",
    " \n",
    "X_train, X_test, y_train, y_test = train_test_split(bike_df_model_ready[features], \n",
    "                                                 bike_df_model_ready[['cnt']], \n",
    "                                                 test_size=0.5, \n",
    "                                                 random_state=42)\n",
    "from sklearn import linear_model\n",
    "model_lr = linear_model.LinearRegression()\n",
    " \n",
    "# train the model on training set\n",
    "model_lr.fit(X_train, y_train)\n",
    "\n",
    "# make predictions using the testing set\n",
    "predictions = model_lr.predict(X_test)\n",
    " \n",
    "# print coefficients as this is what our web application will use in the end\n",
    "print('Coefficients: \\n', model_lr.coef_)\n",
    "\n",
    "# root mean squared error\n",
    "print(\"Root Mean squared error: %.2f\" % sqrt(mean_squared_error(y_test, predictions)))"
   ]
  },
  {
   "cell_type": "code",
   "execution_count": 25,
   "metadata": {},
   "outputs": [
    {
     "data": {
      "text/html": [
       "<div>\n",
       "<style scoped>\n",
       "    .dataframe tbody tr th:only-of-type {\n",
       "        vertical-align: middle;\n",
       "    }\n",
       "\n",
       "    .dataframe tbody tr th {\n",
       "        vertical-align: top;\n",
       "    }\n",
       "\n",
       "    .dataframe thead th {\n",
       "        text-align: right;\n",
       "    }\n",
       "</style>\n",
       "<table border=\"1\" class=\"dataframe\">\n",
       "  <thead>\n",
       "    <tr style=\"text-align: right;\">\n",
       "      <th></th>\n",
       "      <th>weathersit_2.0</th>\n",
       "      <th>weathersit_3.0</th>\n",
       "      <th>weathersit_4.0</th>\n",
       "    </tr>\n",
       "  </thead>\n",
       "  <tbody>\n",
       "    <tr>\n",
       "      <th>0</th>\n",
       "      <td>0</td>\n",
       "      <td>0</td>\n",
       "      <td>0</td>\n",
       "    </tr>\n",
       "    <tr>\n",
       "      <th>1</th>\n",
       "      <td>0</td>\n",
       "      <td>0</td>\n",
       "      <td>0</td>\n",
       "    </tr>\n",
       "    <tr>\n",
       "      <th>2</th>\n",
       "      <td>0</td>\n",
       "      <td>0</td>\n",
       "      <td>0</td>\n",
       "    </tr>\n",
       "    <tr>\n",
       "      <th>3</th>\n",
       "      <td>0</td>\n",
       "      <td>0</td>\n",
       "      <td>0</td>\n",
       "    </tr>\n",
       "    <tr>\n",
       "      <th>4</th>\n",
       "      <td>0</td>\n",
       "      <td>0</td>\n",
       "      <td>0</td>\n",
       "    </tr>\n",
       "  </tbody>\n",
       "</table>\n",
       "</div>"
      ],
      "text/plain": [
       "   weathersit_2.0  weathersit_3.0  weathersit_4.0\n",
       "0               0               0               0\n",
       "1               0               0               0\n",
       "2               0               0               0\n",
       "3               0               0               0\n",
       "4               0               0               0"
      ]
     },
     "execution_count": 25,
     "metadata": {},
     "output_type": "execute_result"
    }
   ],
   "source": [
    "bike_df_model_ready[['weathersit_2.0', 'weathersit_3.0', 'weathersit_4.0']].head()"
   ]
  },
  {
   "cell_type": "code",
   "execution_count": 26,
   "metadata": {},
   "outputs": [
    {
     "name": "stdout",
     "output_type": "stream",
     "text": [
      "Root Mean squared error: 68.13\n"
     ]
    }
   ],
   "source": [
    "# simple approach - make a copy for editing without affecting original\n",
    "bike_df_model_ready = bikes_hour_df.copy()\n",
    "bike_df_model_ready = bike_df_model_ready.sort_values('instant')\n",
    "\n",
    "# dummify categorical columns\n",
    "bike_df_model_ready = prepare_data_for_model(bike_df_model_ready, \n",
    "                                             target_columns = ['season', 'weekday', 'weathersit'])\n",
    "list(bike_df_model_ready.head(1).values)\n",
    "\n",
    "# remove the nan colums in dataframe as most are outcome variable and we can't use them\n",
    "bike_df_model_ready = bike_df_model_ready.dropna() \n",
    "\n",
    "\n",
    "outcome = 'cnt'\n",
    "features = [feat for feat in list(bike_df_model_ready) if feat not in [outcome, 'instant', 'dteday']]  \n",
    "\n",
    " \n",
    "X_train, X_test, y_train, y_test = train_test_split(bike_df_model_ready[features], \n",
    "                                                 bike_df_model_ready[['cnt']], \n",
    "                                                 test_size=0.5, \n",
    "                                                 random_state=42)\n",
    " \n",
    "from sklearn.ensemble import GradientBoostingRegressor\n",
    "model_gbr = GradientBoostingRegressor()\n",
    "model_gbr.fit(X_train, np.ravel(y_train))\n",
    "predictions = model_gbr.predict(X_test)\n",
    "\n",
    "# root mean squared error\n",
    "print(\"Root Mean squared error: %.2f\" % sqrt(mean_squared_error(y_test, predictions)))"
   ]
  },
  {
   "cell_type": "code",
   "execution_count": 27,
   "metadata": {},
   "outputs": [
    {
     "name": "stdout",
     "output_type": "stream",
     "text": [
      "Root Mean squared error: 41.97\n"
     ]
    }
   ],
   "source": [
    "# prior hours\n",
    "bikes_hour_df_shift = bikes_hour_df[['dteday','hr','cnt']].groupby(['dteday','hr']).sum().reset_index()\n",
    "bikes_hour_df_shift.sort_values(['dteday','hr'])\n",
    "# shift the count of the last two hours forward so the new count can take in consideratio how the last two hours went \n",
    "bikes_hour_df_shift['sum_hr_shift_1'] = bikes_hour_df_shift.cnt.shift(+1)\n",
    "bikes_hour_df_shift['sum_hr_shift_2'] = bikes_hour_df_shift.cnt.shift(+2)\n",
    "\n",
    "bike_df_model_ready =  pd.merge(bikes_hour_df, bikes_hour_df_shift[['dteday', 'hr', 'sum_hr_shift_1', 'sum_hr_shift_2']], how='inner', on = ['dteday', 'hr'])\n",
    "\n",
    "# drop NAs caused by our shifting fields around\n",
    "bike_df_model_ready = bike_df_model_ready.dropna()\n",
    "\n",
    "outcome = 'cnt'\n",
    "# create a feature list for each modeling - experiment by adding features to the exclusion list\n",
    "features = [feat for feat in list(bike_df_model_ready) if feat not in [outcome, 'instant', 'dteday','casual', 'registered']]  \n",
    "\n",
    "# split data into train and test portions and model\n",
    "X_train, X_test, y_train, y_test = train_test_split(bike_df_model_ready[features], \n",
    "                                                 bike_df_model_ready[['cnt']], \n",
    "                                                 test_size=0.3, random_state=42)\n",
    "\n",
    "from sklearn.ensemble import GradientBoostingRegressor\n",
    "model_gbr = GradientBoostingRegressor()\n",
    "model_gbr.fit(X_train, np.ravel(y_train))\n",
    "predictions = model_gbr.predict(X_test)\n",
    "\n",
    "# root mean squared error\n",
    "print(\"Root Mean squared error: %.2f\" % sqrt(mean_squared_error(y_test, predictions)))"
   ]
  },
  {
   "cell_type": "code",
   "execution_count": 28,
   "metadata": {},
   "outputs": [
    {
     "data": {
      "text/plain": [
       "189.47117044539073"
      ]
     },
     "execution_count": 28,
     "metadata": {},
     "output_type": "execute_result"
    }
   ],
   "source": [
    "# prior hours\n",
    "np.mean(bikes_hour_df_shift['sum_hr_shift_1'])"
   ]
  },
  {
   "cell_type": "code",
   "execution_count": 29,
   "metadata": {},
   "outputs": [
    {
     "name": "stdout",
     "output_type": "stream",
     "text": [
      "R^2 for hr is 0.159431\n",
      "R^2 for season is 0.025891\n",
      "R^2 for holiday is -0.001242\n",
      "R^2 for temp is 0.168313\n"
     ]
    }
   ],
   "source": [
    "# loop through each feature and calculate the R^2 score\n",
    "features = ['hr', 'season', 'holiday', 'temp']\n",
    "from sklearn import linear_model\n",
    "from sklearn.metrics import r2_score\n",
    "\n",
    "# split data into train and test portions and model\n",
    "X_train, X_test, y_train, y_test = train_test_split(bike_df_model_ready[features], \n",
    "                                                 bike_df_model_ready[['cnt']], \n",
    "                                                 test_size=0.3, random_state=42)\n",
    "    \n",
    "for feat in features:\n",
    "    model_lr = linear_model.LinearRegression()\n",
    "    model_lr.fit(X_train[[feat]], y_train)\n",
    "    predictions = model_lr.predict(X_test[[feat]])\n",
    "    print('R^2 for %s is %f' % (feat, r2_score(y_test, predictions)))"
   ]
  },
  {
   "cell_type": "code",
   "execution_count": 30,
   "metadata": {},
   "outputs": [
    {
     "name": "stdout",
     "output_type": "stream",
     "text": [
      "Root Mean squared error: 148.22\n",
      "\n",
      "\n",
      "Intercept: -103.609493\n"
     ]
    },
    {
     "data": {
      "text/html": [
       "<div>\n",
       "<style scoped>\n",
       "    .dataframe tbody tr th:only-of-type {\n",
       "        vertical-align: middle;\n",
       "    }\n",
       "\n",
       "    .dataframe tbody tr th {\n",
       "        vertical-align: top;\n",
       "    }\n",
       "\n",
       "    .dataframe thead th {\n",
       "        text-align: right;\n",
       "    }\n",
       "</style>\n",
       "<table border=\"1\" class=\"dataframe\">\n",
       "  <thead>\n",
       "    <tr style=\"text-align: right;\">\n",
       "      <th></th>\n",
       "      <th>coefficients</th>\n",
       "      <th>features</th>\n",
       "    </tr>\n",
       "  </thead>\n",
       "  <tbody>\n",
       "    <tr>\n",
       "      <th>2</th>\n",
       "      <td>-28.296857</td>\n",
       "      <td>holiday</td>\n",
       "    </tr>\n",
       "    <tr>\n",
       "      <th>0</th>\n",
       "      <td>9.149312</td>\n",
       "      <td>hr</td>\n",
       "    </tr>\n",
       "    <tr>\n",
       "      <th>1</th>\n",
       "      <td>13.988868</td>\n",
       "      <td>season</td>\n",
       "    </tr>\n",
       "    <tr>\n",
       "      <th>3</th>\n",
       "      <td>311.148592</td>\n",
       "      <td>temp</td>\n",
       "    </tr>\n",
       "  </tbody>\n",
       "</table>\n",
       "</div>"
      ],
      "text/plain": [
       "   coefficients features\n",
       "2    -28.296857  holiday\n",
       "0      9.149312       hr\n",
       "1     13.988868   season\n",
       "3    311.148592     temp"
      ]
     },
     "execution_count": 30,
     "metadata": {},
     "output_type": "execute_result"
    }
   ],
   "source": [
    "# train the model on training set\n",
    "model_lr.fit(X_train, y_train)\n",
    "\n",
    "# make predictions using the testing set\n",
    "predictions = model_lr.predict(X_test)\n",
    " \n",
    "# root mean squared error\n",
    "print(\"Root Mean squared error: %.2f\" % sqrt(mean_squared_error(y_test, predictions)))\n",
    "print('\\n')\n",
    "print('Intercept: %f' % model_lr.intercept_)\n",
    "\n",
    "# features with coefficients \n",
    "feature_coefficients  = pd.DataFrame({'coefficients':model_lr.coef_[0], \n",
    "                                    'features':X_train.columns.values})\n",
    "\n",
    "feature_coefficients.sort_values('coefficients')"
   ]
  },
  {
   "cell_type": "code",
   "execution_count": 31,
   "metadata": {},
   "outputs": [],
   "source": [
    "# set up constants for our coefficients \n",
    "INTERCEPT = -121.029547\n",
    "COEF_HOLIDAY = -23.426176   # day is holiday or not\n",
    "COEF_HOUR = 8.631624        # hour (0 to 23)\n",
    "COEF_SEASON_1 = 3.861149    # 1:springer\n",
    "COEF_SEASON_2 = -1.624812   # 2:summer\n",
    "COEF_SEASON_3 = -41.245562  # 3:fall\n",
    "COEF_SEASON_4 = 39.009224   # 4:winter\n",
    "COEF_TEMP = 426.900259      # norm temp in Celsius -8 to +39"
   ]
  },
  {
   "cell_type": "code",
   "execution_count": 32,
   "metadata": {},
   "outputs": [
    {
     "data": {
      "text/plain": [
       "0.4978673024747184"
      ]
     },
     "execution_count": 32,
     "metadata": {},
     "output_type": "execute_result"
    }
   ],
   "source": [
    "np.mean(X_train['temp'])"
   ]
  },
  {
   "cell_type": "code",
   "execution_count": 33,
   "metadata": {},
   "outputs": [
    {
     "name": "stdout",
     "output_type": "stream",
     "text": [
      "Estimated bike rental count for selected parameters: 171\n"
     ]
    }
   ],
   "source": [
    "# mean values\n",
    "MEAN_HOLIDAY = 0.0275   # day is holiday or not\n",
    "MEAN_HOUR = 11.6        # hour (0 to 23)\n",
    "MEAN_SEASON_1 = 1       # 1:spring\n",
    "MEAN_SEASON_2 = 0       # 2:summer\n",
    "MEAN_SEASON_3 = 0       # 3:fall\n",
    "MEAN_SEASON_4 = 0       # 4:winter\n",
    "MEAN_TEMP = 0.4967      # norm temp in Celsius -8 to +39\n",
    "\n",
    "\n",
    "# try predicting something - 9AM with all other features held constant\n",
    "rental_counts = INTERCEPT + (MEAN_HOLIDAY * COEF_HOLIDAY) \\\n",
    "    + (9 * COEF_HOUR) \\\n",
    "    + (MEAN_SEASON_1 * COEF_SEASON_1)  + (MEAN_SEASON_2 * COEF_SEASON_2) \\\n",
    "    + (MEAN_SEASON_3 * COEF_SEASON_3)  + (MEAN_SEASON_4 * COEF_SEASON_4) \\\n",
    "    + (MEAN_TEMP * COEF_TEMP)\n",
    "\n",
    "print('Estimated bike rental count for selected parameters: %i' % int(rental_counts))"
   ]
  },
  {
   "cell_type": "code",
   "execution_count": null,
   "metadata": {},
   "outputs": [],
   "source": []
  }
 ],
 "metadata": {
  "kernelspec": {
   "display_name": "Python 3",
   "language": "python",
   "name": "python3"
  },
  "language_info": {
   "codemirror_mode": {
    "name": "ipython",
    "version": 3
   },
   "file_extension": ".py",
   "mimetype": "text/x-python",
   "name": "python",
   "nbconvert_exporter": "python",
   "pygments_lexer": "ipython3",
   "version": "3.6.9"
  }
 },
 "nbformat": 4,
 "nbformat_minor": 4
}
